{
 "cells": [
  {
   "cell_type": "markdown",
   "metadata": {},
   "source": [
    "# 不使用numpy库的python版实现"
   ]
  },
  {
   "cell_type": "markdown",
   "metadata": {},
   "source": [
    "- 与门"
   ]
  },
  {
   "cell_type": "code",
   "execution_count": 1,
   "metadata": {
    "scrolled": false
   },
   "outputs": [
    {
     "name": "stdout",
     "output_type": "stream",
     "text": [
      "输入为1和0时为 0\n",
      "输入为0和1时为 0\n",
      "输入为1和1时为 1\n",
      "输入为0和0时为 0\n"
     ]
    }
   ],
   "source": [
    "def AND1(x1,x2):\n",
    "    w1,w2,theta=0.5,0.5,0.7\n",
    "    if w1*x1+w2*x2<=theta:\n",
    "        return 0\n",
    "    if w1*x1+w2*x2>theta:\n",
    "        return 1\n",
    "print('输入为1和0时为',AND1(1,0))\n",
    "print('输入为0和1时为',AND1(0,1))\n",
    "print('输入为1和1时为',AND1(1,1))\n",
    "print('输入为0和0时为',AND1(0,0))"
   ]
  },
  {
   "cell_type": "markdown",
   "metadata": {},
   "source": [
    "- 与非门"
   ]
  },
  {
   "cell_type": "markdown",
   "metadata": {},
   "source": [
    "烦了，还是用类写比较快"
   ]
  },
  {
   "cell_type": "code",
   "execution_count": 18,
   "metadata": {
    "scrolled": false
   },
   "outputs": [
    {
     "name": "stdout",
     "output_type": "stream",
     "text": [
      "与门\n",
      "输入为0和1时为 0\n",
      "输入为1和0时为 0\n",
      "输入为1和1时为 1\n",
      "输入为0和0时为 0\n",
      "--------------------\n",
      "与非门\n",
      "输入为0和1时为 1\n",
      "输入为1和0时为 1\n",
      "输入为1和1时为 0\n",
      "输入为0和0时为 1\n",
      "--------------------\n",
      "或门\n",
      "输入为0和1时为 1\n",
      "输入为1和0时为 1\n",
      "输入为1和1时为 1\n",
      "输入为0和0时为 0\n"
     ]
    },
    {
     "data": {
      "text/plain": [
       "0"
      ]
     },
     "execution_count": 18,
     "metadata": {},
     "output_type": "execute_result"
    }
   ],
   "source": [
    "class fn:\n",
    "    def __init__(self,w1,w2,theta):\n",
    "        self.w1=w1\n",
    "        self.w2=w2\n",
    "        self.theta=theta\n",
    "    \n",
    "    def output(self,x1,x2):\n",
    "        result=0\n",
    "        if self.w1*x1+self.w2*x2<=self.theta:\n",
    "            result=0\n",
    "        if self.w1*x1+self.w2*x2>self.theta:\n",
    "            result=1\n",
    "        print(f'输入为{x1}和{x2}时为',result)\n",
    "        return result\n",
    "# 与门\n",
    "print('与门')\n",
    "AND1=fn(0.5,0.5,0.7)\n",
    "AND1.output(0,1)\n",
    "AND1.output(1,0)\n",
    "AND1.output(1,1)\n",
    "AND1.output(0,0)\n",
    "print('-'*20)\n",
    "# 与非门\n",
    "print('与非门')\n",
    "NAND1=fn(-0.5,-0.5,-0.7)\n",
    "NAND1.output(0,1)\n",
    "NAND1.output(1,0)\n",
    "NAND1.output(1,1)\n",
    "NAND1.output(0,0)\n",
    "print('-'*20)\n",
    "# 或门\n",
    "print('或门')\n",
    "OR1=fn(0.5,0.5,0.2)\n",
    "OR1.output(0,1)\n",
    "OR1.output(1,0)\n",
    "OR1.output(1,1)\n",
    "OR1.output(0,0)"
   ]
  },
  {
   "cell_type": "markdown",
   "metadata": {},
   "source": [
    "我错了，偏函数更快"
   ]
  },
  {
   "cell_type": "code",
   "execution_count": 5,
   "metadata": {},
   "outputs": [
    {
     "name": "stdout",
     "output_type": "stream",
     "text": [
      "1\n"
     ]
    }
   ],
   "source": [
    "import numpy as np\n",
    "from functools import partial\n",
    "def gzj(x1,x2,w1,w2,b):\n",
    "    w=np.array([w1,w2])\n",
    "    x=np.array([x1,x2])\n",
    "    c=np.sum(w*x)+b\n",
    "    if c<=0:\n",
    "        return 0\n",
    "    if c>0:\n",
    "        return 1\n",
    "AND1=partial(gzj,w1=0.5,w2=0.5,b=-0.7)#与门\n",
    "print(AND1(1,1))"
   ]
  },
  {
   "cell_type": "markdown",
   "metadata": {},
   "source": [
    "# 用numpy写的版本"
   ]
  },
  {
   "cell_type": "code",
   "execution_count": 1,
   "metadata": {},
   "outputs": [
    {
     "name": "stdout",
     "output_type": "stream",
     "text": [
      "与门\n",
      "输入为0和1时为 0\n",
      "输入为1和0时为 0\n",
      "输入为1和1时为 1\n",
      "输入为0和0时为 0\n",
      "--------------------\n",
      "与非门\n",
      "输入为0和1时为 1\n",
      "输入为1和0时为 1\n",
      "输入为1和1时为 0\n",
      "输入为0和0时为 1\n",
      "--------------------\n",
      "或门\n",
      "输入为0和1时为 1\n",
      "输入为1和0时为 1\n",
      "输入为1和1时为 1\n",
      "输入为0和0时为 0\n"
     ]
    },
    {
     "data": {
      "text/plain": [
       "0"
      ]
     },
     "execution_count": 1,
     "metadata": {},
     "output_type": "execute_result"
    }
   ],
   "source": [
    "import numpy as np\n",
    "class fn:\n",
    "    '''\n",
    "    输出方法为output()\n",
    "    '''\n",
    "    def __init__(self,w1,w2,theta):\n",
    "        self.w=np.array([w1,w2])\n",
    "        self.theta=theta\n",
    "    def output(self,x1,x2):\n",
    "        c=0\n",
    "        if x1!=0 and x1!=1: \n",
    "            raise Exception('输入有问题')\n",
    "        if x2!=0 and x2!=1:\n",
    "            raise Exception('输入有问题')\n",
    "\n",
    "        x=np.array([x1,x2])\n",
    "        result=np.sum(self.w*x)+self.theta\n",
    "        if result<=0:\n",
    "            c=0\n",
    "        if result>0:\n",
    "            c=1\n",
    "        print(f'输入为{x1}和{x2}时为',c)\n",
    "        return c\n",
    "# 与门\n",
    "print('与门')\n",
    "AND1=fn(0.5,0.5,-0.7)\n",
    "AND1.output(0,1)\n",
    "AND1.output(1,0)\n",
    "AND1.output(1,1)\n",
    "AND1.output(0,0)\n",
    "print('-'*20)\n",
    "# 与非门\n",
    "print('与非门')\n",
    "NAND1=fn(-0.5,-0.5,0.7)\n",
    "NAND1.output(0,1)\n",
    "NAND1.output(1,0)\n",
    "NAND1.output(1,1)\n",
    "NAND1.output(0,0)\n",
    "print('-'*20)\n",
    "# 或门\n",
    "print('或门')\n",
    "OR1=fn(0.5,0.5,-0.2)\n",
    "OR1.output(0,1)\n",
    "OR1.output(1,0)\n",
    "OR1.output(1,1)\n",
    "OR1.output(0,0)"
   ]
  },
  {
   "cell_type": "markdown",
   "metadata": {},
   "source": [
    "- 添加了抛出输入异常的提示"
   ]
  },
  {
   "cell_type": "markdown",
   "metadata": {},
   "source": [
    "以下为异或门的实现"
   ]
  },
  {
   "cell_type": "code",
   "execution_count": 2,
   "metadata": {},
   "outputs": [
    {
     "name": "stdout",
     "output_type": "stream",
     "text": [
      "1\n",
      "1\n",
      "0\n",
      "0\n"
     ]
    }
   ],
   "source": [
    "import numpy as np\n",
    "from functools import partial\n",
    "class fn:\n",
    "    '''\n",
    "    输出方法为outputf()\n",
    "    简单逻辑电路感知机类\n",
    "    '''\n",
    "    def __init__(self,w1,w2,theta):\n",
    "        self.w=np.array([w1,w2])\n",
    "        self.theta=theta\n",
    "    def output(self,x1,x2):\n",
    "        c=0\n",
    "        if x1!=0 and x1!=1: \n",
    "            raise Exception('输入有问题')\n",
    "        if x2!=0 and x2!=1:\n",
    "            raise Exception('输入有问题')\n",
    "\n",
    "        x=np.array([x1,x2])\n",
    "        result=np.sum(self.w*x)+self.theta\n",
    "        if result<=0:\n",
    "            c=0\n",
    "        if result>0:\n",
    "            c=1\n",
    "        print(f'输入为{x1}和{x2}时为',c)\n",
    "        return c\n",
    "\n",
    "    def outputf(self,x1,x2):\n",
    "        c=0\n",
    "        if x1!=0 and x1!=1: \n",
    "            raise Exception('输入有问题')\n",
    "        if x2!=0 and x2!=1:\n",
    "            raise Exception('输入有问题')\n",
    "\n",
    "        x=np.array([x1,x2])\n",
    "        result=np.sum(self.w*x)+self.theta\n",
    "        if result<=0:\n",
    "            c=0\n",
    "        if result>0:\n",
    "            c=1\n",
    "        return c\n",
    "\n",
    "AND1=fn(0.5,0.5,-0.7)\n",
    "NAND1=fn(-0.5,-0.5,0.7)\n",
    "OR1=fn(0.5,0.5,-0.2)\n",
    "\n",
    "\n",
    "def NOR1(x1,x2,x,y,z):\n",
    "    s1=x.outputf(x1,x2)\n",
    "    s2=y.outputf(x1,x2)\n",
    "    result=z.outputf(s1,s2)\n",
    "    return result\n",
    "\n",
    "NNOR1=partial(NOR1,x=NAND1,y=OR1,z=AND1)\n",
    "#使用偏函数来减少必要\n",
    "print(NNOR1(1,0))\n",
    "print(NNOR1(0,1))\n",
    "print(NNOR1(0,0))\n",
    "print(NNOR1(1,1))"
   ]
  },
  {
   "cell_type": "code",
   "execution_count": null,
   "metadata": {},
   "outputs": [],
   "source": []
  }
 ],
 "metadata": {
  "kernelspec": {
   "display_name": "Python 3",
   "language": "python",
   "name": "python3"
  },
  "language_info": {
   "codemirror_mode": {
    "name": "ipython",
    "version": 3
   },
   "file_extension": ".py",
   "mimetype": "text/x-python",
   "name": "python",
   "nbconvert_exporter": "python",
   "pygments_lexer": "ipython3",
   "version": "3.7.4"
  }
 },
 "nbformat": 4,
 "nbformat_minor": 2
}
